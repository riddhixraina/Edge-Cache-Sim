{
  "cells": [
    {
      "cell_type": "markdown",
      "metadata": {},
      "source": [
        "# Cache Size Sweep Analysis\n",
        "\n",
        "This notebook analyzes how cache hit ratios scale with cache capacity across different caching policies.\n",
        "\n",
        "## Objectives\n",
        "- Compare LRU, LFU, and TTL policies across different cache sizes\n",
        "- Analyze the relationship between cache capacity and hit ratio\n",
        "- Identify optimal cache sizing strategies\n",
        "- Understand policy-specific scaling behavior\n"
      ]
    },
    {
      "cell_type": "code",
      "execution_count": null,
      "metadata": {},
      "outputs": [],
      "source": [
        "import sys\n",
        "import os\n",
        "sys.path.append('src')\n",
        "\n",
        "import numpy as np\n",
        "import pandas as pd\n",
        "import matplotlib.pyplot as plt\n",
        "import seaborn as sns\n",
        "from typing import List, Dict, Any\n",
        "import time\n",
        "\n",
        "from simulator import CDNSimulator, SimulationConfig\n",
        "from trace_generator import TraceGenerator\n",
        "from metrics import MetricsAnalyzer\n",
        "from visualizer import CDNVisualizer\n",
        "\n",
        "# Set up plotting\n",
        "plt.style.use('seaborn-v0_8')\n",
        "sns.set_palette(\"husl\")\n",
        "\n",
        "# Configure pandas display\n",
        "pd.set_option('display.max_columns', None)\n",
        "pd.set_option('display.width', None)\n",
        "pd.set_option('display.max_colwidth', None)\n"
      ]
    }
  ],
  "metadata": {
    "language_info": {
      "name": "python"
    }
  },
  "nbformat": 4,
  "nbformat_minor": 2
}
